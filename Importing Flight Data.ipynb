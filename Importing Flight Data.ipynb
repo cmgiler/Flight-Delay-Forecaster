{
 "cells": [
  {
   "cell_type": "code",
   "execution_count": 1,
   "metadata": {
    "collapsed": true
   },
   "outputs": [],
   "source": [
    "import pandas as pd\n",
    "import shutil\n",
    "import os\n",
    "import zipfile"
   ]
  },
  {
   "cell_type": "code",
   "execution_count": null,
   "metadata": {
    "collapsed": true
   },
   "outputs": [],
   "source": []
  },
  {
   "cell_type": "code",
   "execution_count": 11,
   "metadata": {
    "collapsed": false
   },
   "outputs": [
    {
     "name": "stdout",
     "output_type": "stream",
     "text": [
      "(27/96) On_Time_On_Time_Performance_2010_9.zip\n"
     ]
    },
    {
     "name": "stderr",
     "output_type": "stream",
     "text": [
      "/home/chrisgiler/anaconda3/lib/python3.5/site-packages/IPython/core/interactiveshell.py:2717: DtypeWarning: Columns (48,77,84) have mixed types. Specify dtype option on import or set low_memory=False.\n",
      "  interactivity=interactivity, compiler=compiler, result=result)\n"
     ]
    },
    {
     "name": "stdout",
     "output_type": "stream",
     "text": [
      "Dropped 5832 Rows (1.1085%).\n",
      "-----\n"
     ]
    }
   ],
   "source": [
    "path = 'Data/'\n",
    "i = 0\n",
    "for fn in os.listdir(path):\n",
    "    i += 1\n",
    "    if fn.startswith('On_Time_On_Time_Performance_2010'):\n",
    "        print('(%d/%d) %s' % (i, len(os.listdir(path)), fn))\n",
    "        zip = zipfile.ZipFile(path+fn)  \n",
    "        zip.extractall(path + 'output')\n",
    "        df = pd.read_csv(path + 'output/' + fn.replace('.zip', '.csv'))\n",
    "        shutil.rmtree(path + 'output', )\n",
    "        base_row_count = len(df)\n",
    "        df.dropna(subset=['ArrDelay'], inplace=True)\n",
    "        print(\"Dropped %d Rows (%0.4f%%).\" % (base_row_count - len(df), (base_row_count-len(df))/base_row_count*100))\n",
    "        print('-----')\n",
    "        break\n"
   ]
  },
  {
   "cell_type": "code",
   "execution_count": 12,
   "metadata": {
    "collapsed": true
   },
   "outputs": [],
   "source": [
    "def create_ids(data):\n",
    "    ids = (data['FlightDate'].apply(lambda x: str(x).replace('-','_')) + \n",
    "           data['AirlineID'].apply(str) + \n",
    "           data['ArrTime'].apply(lambda x: str(x).split('.')[0]) + \n",
    "           data['DestAirportID'].apply(str) + \n",
    "           data['OriginAirportID'].apply(str) + \n",
    "           data['TailNum'].apply(str))\n",
    "    return ids"
   ]
  },
  {
   "cell_type": "code",
   "execution_count": 13,
   "metadata": {
    "collapsed": false
   },
   "outputs": [],
   "source": [
    "df['id'] = create_ids(df)"
   ]
  },
  {
   "cell_type": "code",
   "execution_count": 14,
   "metadata": {
    "collapsed": false
   },
   "outputs": [
    {
     "data": {
      "text/plain": [
       "True"
      ]
     },
     "execution_count": 14,
     "metadata": {},
     "output_type": "execute_result"
    }
   ],
   "source": [
    "ids_are_unique = len(df['id']) == len(pd.unique(df['id']))\n",
    "ids_are_unique"
   ]
  },
  {
   "cell_type": "code",
   "execution_count": 15,
   "metadata": {
    "collapsed": false
   },
   "outputs": [],
   "source": [
    "df['FlightDate'] = pd.to_datetime(df['FlightDate'])"
   ]
  },
  {
   "cell_type": "code",
   "execution_count": 16,
   "metadata": {
    "collapsed": false
   },
   "outputs": [
    {
     "data": {
      "text/html": [
       "<div>\n",
       "<table border=\"1\" class=\"dataframe\">\n",
       "  <thead>\n",
       "    <tr style=\"text-align: right;\">\n",
       "      <th></th>\n",
       "      <th>Year</th>\n",
       "      <th>Quarter</th>\n",
       "      <th>Month</th>\n",
       "      <th>DayofMonth</th>\n",
       "      <th>DayOfWeek</th>\n",
       "      <th>FlightDate</th>\n",
       "      <th>UniqueCarrier</th>\n",
       "      <th>AirlineID</th>\n",
       "      <th>Carrier</th>\n",
       "      <th>TailNum</th>\n",
       "      <th>...</th>\n",
       "      <th>Div5Airport</th>\n",
       "      <th>Div5AirportID</th>\n",
       "      <th>Div5AirportSeqID</th>\n",
       "      <th>Div5WheelsOn</th>\n",
       "      <th>Div5TotalGTime</th>\n",
       "      <th>Div5LongestGTime</th>\n",
       "      <th>Div5WheelsOff</th>\n",
       "      <th>Div5TailNum</th>\n",
       "      <th>Unnamed: 109</th>\n",
       "      <th>id</th>\n",
       "    </tr>\n",
       "  </thead>\n",
       "  <tbody>\n",
       "    <tr>\n",
       "      <th>263222</th>\n",
       "      <td>2010</td>\n",
       "      <td>3</td>\n",
       "      <td>9</td>\n",
       "      <td>1</td>\n",
       "      <td>3</td>\n",
       "      <td>2010-09-01</td>\n",
       "      <td>MQ</td>\n",
       "      <td>20398</td>\n",
       "      <td>MQ</td>\n",
       "      <td>N720MQ</td>\n",
       "      <td>...</td>\n",
       "      <td>NaN</td>\n",
       "      <td>NaN</td>\n",
       "      <td>NaN</td>\n",
       "      <td>NaN</td>\n",
       "      <td>NaN</td>\n",
       "      <td>NaN</td>\n",
       "      <td>NaN</td>\n",
       "      <td>NaN</td>\n",
       "      <td>NaN</td>\n",
       "      <td>2010_09_01203989171069311278N720MQ</td>\n",
       "    </tr>\n",
       "    <tr>\n",
       "      <th>356535</th>\n",
       "      <td>2010</td>\n",
       "      <td>3</td>\n",
       "      <td>9</td>\n",
       "      <td>1</td>\n",
       "      <td>3</td>\n",
       "      <td>2010-09-01</td>\n",
       "      <td>US</td>\n",
       "      <td>20355</td>\n",
       "      <td>US</td>\n",
       "      <td>N754UW</td>\n",
       "      <td>...</td>\n",
       "      <td>NaN</td>\n",
       "      <td>NaN</td>\n",
       "      <td>NaN</td>\n",
       "      <td>NaN</td>\n",
       "      <td>NaN</td>\n",
       "      <td>NaN</td>\n",
       "      <td>NaN</td>\n",
       "      <td>NaN</td>\n",
       "      <td>NaN</td>\n",
       "      <td>2010_09_012035519591105711278N754UW</td>\n",
       "    </tr>\n",
       "    <tr>\n",
       "      <th>356536</th>\n",
       "      <td>2010</td>\n",
       "      <td>3</td>\n",
       "      <td>9</td>\n",
       "      <td>1</td>\n",
       "      <td>3</td>\n",
       "      <td>2010-09-01</td>\n",
       "      <td>US</td>\n",
       "      <td>20355</td>\n",
       "      <td>US</td>\n",
       "      <td>N752US</td>\n",
       "      <td>...</td>\n",
       "      <td>NaN</td>\n",
       "      <td>NaN</td>\n",
       "      <td>NaN</td>\n",
       "      <td>NaN</td>\n",
       "      <td>NaN</td>\n",
       "      <td>NaN</td>\n",
       "      <td>NaN</td>\n",
       "      <td>NaN</td>\n",
       "      <td>NaN</td>\n",
       "      <td>2010_09_01203556561105711278N752US</td>\n",
       "    </tr>\n",
       "    <tr>\n",
       "      <th>356537</th>\n",
       "      <td>2010</td>\n",
       "      <td>3</td>\n",
       "      <td>9</td>\n",
       "      <td>1</td>\n",
       "      <td>3</td>\n",
       "      <td>2010-09-01</td>\n",
       "      <td>US</td>\n",
       "      <td>20355</td>\n",
       "      <td>US</td>\n",
       "      <td>N753US</td>\n",
       "      <td>...</td>\n",
       "      <td>NaN</td>\n",
       "      <td>NaN</td>\n",
       "      <td>NaN</td>\n",
       "      <td>NaN</td>\n",
       "      <td>NaN</td>\n",
       "      <td>NaN</td>\n",
       "      <td>NaN</td>\n",
       "      <td>NaN</td>\n",
       "      <td>NaN</td>\n",
       "      <td>2010_09_012035510151105711278N753US</td>\n",
       "    </tr>\n",
       "    <tr>\n",
       "      <th>356538</th>\n",
       "      <td>2010</td>\n",
       "      <td>3</td>\n",
       "      <td>9</td>\n",
       "      <td>1</td>\n",
       "      <td>3</td>\n",
       "      <td>2010-09-01</td>\n",
       "      <td>US</td>\n",
       "      <td>20355</td>\n",
       "      <td>US</td>\n",
       "      <td>N737US</td>\n",
       "      <td>...</td>\n",
       "      <td>NaN</td>\n",
       "      <td>NaN</td>\n",
       "      <td>NaN</td>\n",
       "      <td>NaN</td>\n",
       "      <td>NaN</td>\n",
       "      <td>NaN</td>\n",
       "      <td>NaN</td>\n",
       "      <td>NaN</td>\n",
       "      <td>NaN</td>\n",
       "      <td>2010_09_012035511321105711278N737US</td>\n",
       "    </tr>\n",
       "  </tbody>\n",
       "</table>\n",
       "<p>5 rows × 111 columns</p>\n",
       "</div>"
      ],
      "text/plain": [
       "        Year  Quarter  Month  DayofMonth  DayOfWeek FlightDate UniqueCarrier  \\\n",
       "263222  2010        3      9           1          3 2010-09-01            MQ   \n",
       "356535  2010        3      9           1          3 2010-09-01            US   \n",
       "356536  2010        3      9           1          3 2010-09-01            US   \n",
       "356537  2010        3      9           1          3 2010-09-01            US   \n",
       "356538  2010        3      9           1          3 2010-09-01            US   \n",
       "\n",
       "        AirlineID Carrier TailNum                 ...                   \\\n",
       "263222      20398      MQ  N720MQ                 ...                    \n",
       "356535      20355      US  N754UW                 ...                    \n",
       "356536      20355      US  N752US                 ...                    \n",
       "356537      20355      US  N753US                 ...                    \n",
       "356538      20355      US  N737US                 ...                    \n",
       "\n",
       "        Div5Airport  Div5AirportID  Div5AirportSeqID  Div5WheelsOn  \\\n",
       "263222          NaN            NaN               NaN           NaN   \n",
       "356535          NaN            NaN               NaN           NaN   \n",
       "356536          NaN            NaN               NaN           NaN   \n",
       "356537          NaN            NaN               NaN           NaN   \n",
       "356538          NaN            NaN               NaN           NaN   \n",
       "\n",
       "       Div5TotalGTime Div5LongestGTime Div5WheelsOff  Div5TailNum  \\\n",
       "263222            NaN              NaN           NaN          NaN   \n",
       "356535            NaN              NaN           NaN          NaN   \n",
       "356536            NaN              NaN           NaN          NaN   \n",
       "356537            NaN              NaN           NaN          NaN   \n",
       "356538            NaN              NaN           NaN          NaN   \n",
       "\n",
       "       Unnamed: 109                                   id  \n",
       "263222          NaN   2010_09_01203989171069311278N720MQ  \n",
       "356535          NaN  2010_09_012035519591105711278N754UW  \n",
       "356536          NaN   2010_09_01203556561105711278N752US  \n",
       "356537          NaN  2010_09_012035510151105711278N753US  \n",
       "356538          NaN  2010_09_012035511321105711278N737US  \n",
       "\n",
       "[5 rows x 111 columns]"
      ]
     },
     "execution_count": 16,
     "metadata": {},
     "output_type": "execute_result"
    }
   ],
   "source": [
    "df.sort_values('FlightDate').head()"
   ]
  },
  {
   "cell_type": "code",
   "execution_count": 22,
   "metadata": {
    "collapsed": false
   },
   "outputs": [
    {
     "data": {
      "text/plain": [
       "4639"
      ]
     },
     "execution_count": 22,
     "metadata": {},
     "output_type": "execute_result"
    }
   ],
   "source": [
    "len(df[df['Origin'] == 'STL'])"
   ]
  },
  {
   "cell_type": "code",
   "execution_count": null,
   "metadata": {
    "collapsed": true
   },
   "outputs": [],
   "source": []
  },
  {
   "cell_type": "code",
   "execution_count": 9,
   "metadata": {
    "collapsed": false
   },
   "outputs": [
    {
     "name": "stdout",
     "output_type": "stream",
     "text": [
      "Year 2017\n",
      "Quarter 1\n",
      "Month 3\n",
      "DayofMonth 9\n",
      "DayOfWeek 4\n",
      "FlightDate 2017-03-09 00:00:00\n",
      "UniqueCarrier AA\n",
      "AirlineID 19805\n",
      "Carrier AA\n",
      "TailNum N3AVAA\n",
      "FlightNum 2264\n",
      "OriginAirportID 11298\n",
      "OriginAirportSeqID 1129804\n",
      "OriginCityMarketID 30194\n",
      "Origin DFW\n",
      "OriginCityName Dallas/Fort Worth, TX\n",
      "OriginState TX\n",
      "OriginStateFips 48\n",
      "OriginStateName Texas\n",
      "OriginWac 74\n",
      "DestAirportID 14262\n",
      "DestAirportSeqID 1426204\n",
      "DestCityMarketID 34262\n",
      "Dest PSP\n",
      "DestCityName Palm Springs, CA\n",
      "DestState CA\n",
      "DestStateFips 6\n",
      "DestStateName California\n",
      "DestWac 91\n",
      "CRSDepTime 1100\n",
      "DepTime 1052.0\n",
      "DepDelay -8.0\n",
      "DepDelayMinutes 0.0\n",
      "DepDel15 0.0\n",
      "DepartureDelayGroups -1.0\n",
      "DepTimeBlk 1100-1159\n",
      "TaxiOut 30.0\n",
      "WheelsOff 1122.0\n",
      "WheelsOn 1153.0\n",
      "TaxiIn 6.0\n",
      "CRSArrTime 1207\n",
      "ArrTime 1159.0\n",
      "ArrDelay -8.0\n",
      "ArrDelayMinutes 0.0\n",
      "ArrDel15 0.0\n",
      "ArrivalDelayGroups -1.0\n",
      "ArrTimeBlk 1200-1259\n",
      "Cancelled 0.0\n",
      "CancellationCode nan\n",
      "Diverted 0.0\n",
      "CRSElapsedTime 187.0\n",
      "ActualElapsedTime 187.0\n",
      "AirTime 151.0\n",
      "Flights 1.0\n",
      "Distance 1126.0\n",
      "DistanceGroup 5\n",
      "CarrierDelay nan\n",
      "WeatherDelay nan\n",
      "NASDelay nan\n",
      "SecurityDelay nan\n",
      "LateAircraftDelay nan\n",
      "FirstDepTime nan\n",
      "TotalAddGTime nan\n",
      "LongestAddGTime nan\n",
      "DivAirportLandings 0\n",
      "DivReachedDest nan\n",
      "DivActualElapsedTime nan\n",
      "DivArrDelay nan\n",
      "DivDistance nan\n",
      "Div1Airport nan\n",
      "Div1AirportID nan\n",
      "Div1AirportSeqID nan\n",
      "Div1WheelsOn nan\n",
      "Div1TotalGTime nan\n",
      "Div1LongestGTime nan\n",
      "Div1WheelsOff nan\n",
      "Div1TailNum nan\n",
      "Div2Airport nan\n",
      "Div2AirportID nan\n",
      "Div2AirportSeqID nan\n",
      "Div2WheelsOn nan\n",
      "Div2TotalGTime nan\n",
      "Div2LongestGTime nan\n",
      "Div2WheelsOff nan\n",
      "Div2TailNum nan\n",
      "Div3Airport nan\n",
      "Div3AirportID nan\n",
      "Div3AirportSeqID nan\n",
      "Div3WheelsOn nan\n",
      "Div3TotalGTime nan\n",
      "Div3LongestGTime nan\n",
      "Div3WheelsOff nan\n",
      "Div3TailNum nan\n",
      "Div4Airport nan\n",
      "Div4AirportID nan\n",
      "Div4AirportSeqID nan\n",
      "Div4WheelsOn nan\n",
      "Div4TotalGTime nan\n",
      "Div4LongestGTime nan\n",
      "Div4WheelsOff nan\n",
      "Div4TailNum nan\n",
      "Div5Airport nan\n",
      "Div5AirportID nan\n",
      "Div5AirportSeqID nan\n",
      "Div5WheelsOn nan\n",
      "Div5TotalGTime nan\n",
      "Div5LongestGTime nan\n",
      "Div5WheelsOff nan\n",
      "Div5TailNum nan\n",
      "Unnamed: 109 nan\n",
      "id 2017_03_091980511591426211298N3AVAA\n"
     ]
    }
   ],
   "source": [
    "for name in df.columns:\n",
    "    print(name, df[name][0])"
   ]
  },
  {
   "cell_type": "code",
   "execution_count": null,
   "metadata": {
    "collapsed": true
   },
   "outputs": [],
   "source": []
  },
  {
   "cell_type": "code",
   "execution_count": 11,
   "metadata": {
    "collapsed": false
   },
   "outputs": [
    {
     "data": {
      "text/plain": [
       "array([ -1.,   0.,  -2.,   2.,   1.,   7.,   3.,   4.,   5.,   6.,   8.,\n",
       "         9.,  12.,  10.,  11.])"
      ]
     },
     "execution_count": 11,
     "metadata": {},
     "output_type": "execute_result"
    }
   ],
   "source": [
    "pd.unique(df['ArrivalDelayGroups'])"
   ]
  },
  {
   "cell_type": "code",
   "execution_count": 41,
   "metadata": {
    "collapsed": false
   },
   "outputs": [
    {
     "data": {
      "text/plain": [
       "'2010_01_09'"
      ]
     },
     "execution_count": 41,
     "metadata": {},
     "output_type": "execute_result"
    }
   ],
   "source": [
    "data['FlightDate'].apply(lambda x: str(x).replace('-','_'))[0]"
   ]
  },
  {
   "cell_type": "code",
   "execution_count": 42,
   "metadata": {
    "collapsed": false
   },
   "outputs": [
    {
     "data": {
      "text/plain": [
       "20363"
      ]
     },
     "execution_count": 42,
     "metadata": {},
     "output_type": "execute_result"
    }
   ],
   "source": [
    "data['AirlineID'][0]"
   ]
  },
  {
   "cell_type": "code",
   "execution_count": 43,
   "metadata": {
    "collapsed": false
   },
   "outputs": [
    {
     "ename": "AttributeError",
     "evalue": "'Series' object has no attribute 'split'",
     "output_type": "error",
     "traceback": [
      "\u001b[0;31m---------------------------------------------------------------------------\u001b[0m",
      "\u001b[0;31mAttributeError\u001b[0m                            Traceback (most recent call last)",
      "\u001b[0;32m<ipython-input-43-9e480a277112>\u001b[0m in \u001b[0;36m<module>\u001b[0;34m()\u001b[0m\n\u001b[0;32m----> 1\u001b[0;31m \u001b[0mdata\u001b[0m\u001b[0;34m[\u001b[0m\u001b[0;34m'ArrTime'\u001b[0m\u001b[0;34m]\u001b[0m\u001b[0;34m.\u001b[0m\u001b[0mapply\u001b[0m\u001b[0;34m(\u001b[0m\u001b[0mstr\u001b[0m\u001b[0;34m)\u001b[0m\u001b[0;34m.\u001b[0m\u001b[0msplit\u001b[0m\u001b[0;34m(\u001b[0m\u001b[0;34m'.'\u001b[0m\u001b[0;34m)\u001b[0m\u001b[0;34m[\u001b[0m\u001b[0;36m0\u001b[0m\u001b[0;34m]\u001b[0m\u001b[0;34m[\u001b[0m\u001b[0;36m0\u001b[0m\u001b[0;34m]\u001b[0m\u001b[0;34m\u001b[0m\u001b[0m\n\u001b[0m",
      "\u001b[0;32m/Library/Frameworks/Python.framework/Versions/3.6/lib/python3.6/site-packages/pandas/core/generic.py\u001b[0m in \u001b[0;36m__getattr__\u001b[0;34m(self, name)\u001b[0m\n\u001b[1;32m   3079\u001b[0m             \u001b[0;32mif\u001b[0m \u001b[0mname\u001b[0m \u001b[0;32min\u001b[0m \u001b[0mself\u001b[0m\u001b[0;34m.\u001b[0m\u001b[0m_info_axis\u001b[0m\u001b[0;34m:\u001b[0m\u001b[0;34m\u001b[0m\u001b[0m\n\u001b[1;32m   3080\u001b[0m                 \u001b[0;32mreturn\u001b[0m \u001b[0mself\u001b[0m\u001b[0;34m[\u001b[0m\u001b[0mname\u001b[0m\u001b[0;34m]\u001b[0m\u001b[0;34m\u001b[0m\u001b[0m\n\u001b[0;32m-> 3081\u001b[0;31m             \u001b[0;32mreturn\u001b[0m \u001b[0mobject\u001b[0m\u001b[0;34m.\u001b[0m\u001b[0m__getattribute__\u001b[0m\u001b[0;34m(\u001b[0m\u001b[0mself\u001b[0m\u001b[0;34m,\u001b[0m \u001b[0mname\u001b[0m\u001b[0;34m)\u001b[0m\u001b[0;34m\u001b[0m\u001b[0m\n\u001b[0m\u001b[1;32m   3082\u001b[0m \u001b[0;34m\u001b[0m\u001b[0m\n\u001b[1;32m   3083\u001b[0m     \u001b[0;32mdef\u001b[0m \u001b[0m__setattr__\u001b[0m\u001b[0;34m(\u001b[0m\u001b[0mself\u001b[0m\u001b[0;34m,\u001b[0m \u001b[0mname\u001b[0m\u001b[0;34m,\u001b[0m \u001b[0mvalue\u001b[0m\u001b[0;34m)\u001b[0m\u001b[0;34m:\u001b[0m\u001b[0;34m\u001b[0m\u001b[0m\n",
      "\u001b[0;31mAttributeError\u001b[0m: 'Series' object has no attribute 'split'"
     ]
    }
   ],
   "source": [
    "data['ArrTime'].apply(str).split('.')[0][0]"
   ]
  },
  {
   "cell_type": "code",
   "execution_count": null,
   "metadata": {
    "collapsed": true
   },
   "outputs": [],
   "source": []
  }
 ],
 "metadata": {
  "anaconda-cloud": {},
  "kernelspec": {
   "display_name": "Python [default]",
   "language": "python",
   "name": "python3"
  },
  "language_info": {
   "codemirror_mode": {
    "name": "ipython",
    "version": 3
   },
   "file_extension": ".py",
   "mimetype": "text/x-python",
   "name": "python",
   "nbconvert_exporter": "python",
   "pygments_lexer": "ipython3",
   "version": "3.5.2"
  }
 },
 "nbformat": 4,
 "nbformat_minor": 2
}
